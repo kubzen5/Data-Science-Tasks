{
 "cells": [
  {
   "cell_type": "markdown",
   "metadata": {},
   "source": [
    "Task 1:\n",
    "\n",
    "Your customer is importing flowers (irises) from China. He always buys the same three species: Virginica, Versicolor oraz Setosa. Unfortunately, in the last order all the flowers got mixed up and nobody knows how to distinguish them (what is surprising, even the florist experts were not able to identify them).  Luckily, there are still 150 flowers left from the previous order which are tagged properly.  The client instructed his workers to measure the length and width of their sepals and petals so they could help to classify the newest batch correctly.\n",
    "Goal: Based on attached data build a model which will classify flower species from the last order. Prepare a report where you describe your way of approaching the problem and the steps you took to solve it. Don’t forget to assess the quality of the model you have prepared.\n",
    "Don’t focus on getting the highest score possible - the more important thing is to show your line of thought. \n",
    " If you have any doubts or something seems inconclusive based on the task description, write it down in the report in the way you would ask the customer to clarify.\n",
    "What you need to provide for this task:\n",
    "    \n",
    "1. The report (pdf/html/markdown) which includes the description of the model used.\n",
    "2. The source code written in Python or R (published on one of the git platforms such as github or bitbucket)."
   ]
  },
  {
   "cell_type": "markdown",
   "metadata": {},
   "source": [
    "# Import packages and basic informations about dataset\n",
    "This section is about packages which I used to prepare this report."
   ]
  },
  {
   "cell_type": "code",
   "execution_count": 1,
   "metadata": {},
   "outputs": [],
   "source": [
    "# Core packages\n",
    "import os\n",
    "import pandas as pd\n",
    "import numpy as np\n",
    "# Useful package for hints\n",
    "from typing import List, Tuple\n",
    "# Visualization\n",
    "import matplotlib.pyplot as plt\n",
    "import seaborn as sns\n",
    "# Pipeline\n",
    "from sklearn.impute import SimpleImputer\n",
    "from sklearn.preprocessing import LabelBinarizer,StandardScaler\n",
    "from sklearn.pipeline import Pipeline,FeatureUnion\n",
    "from sklearn.base import BaseEstimator, TransformerMixin\n",
    "# Modelling\n",
    "from sklearn.model_selection import train_test_split\n",
    "from sklearn.ensemble import RandomForestClassifier\n",
    "from sklearn.model_selection import cross_val_score,cross_val_predict\n",
    "from sklearn.metrics import classification_report,confusion_matrix\n",
    "import joblib"
   ]
  },
  {
   "cell_type": "markdown",
   "metadata": {},
   "source": [
    "Process for loading file .csv dataset."
   ]
  },
  {
   "cell_type": "code",
   "execution_count": 2,
   "metadata": {},
   "outputs": [],
   "source": [
    "# Global variables\n",
    "PROJECT_PATH=os.getcwd()\n",
    "DATA_PATH=PROJECT_PATH+'/data_raw/Graduate - IRISES dataset (2019-06).csv'"
   ]
  },
  {
   "cell_type": "code",
   "execution_count": 3,
   "metadata": {},
   "outputs": [
    {
     "data": {
      "text/plain": [
       "'/home/jakubj/JupyterNotebooks/iris_task_1'"
      ]
     },
     "execution_count": 3,
     "metadata": {},
     "output_type": "execute_result"
    }
   ],
   "source": [
    "PROJECT_PATH"
   ]
  },
  {
   "cell_type": "code",
   "execution_count": 4,
   "metadata": {},
   "outputs": [],
   "source": [
    "# Read csv file\n",
    "iris_data_raw=pd.read_csv(DATA_PATH,sep='|')"
   ]
  },
  {
   "cell_type": "code",
   "execution_count": 5,
   "metadata": {},
   "outputs": [
    {
     "data": {
      "text/html": [
       "<div>\n",
       "<style scoped>\n",
       "    .dataframe tbody tr th:only-of-type {\n",
       "        vertical-align: middle;\n",
       "    }\n",
       "\n",
       "    .dataframe tbody tr th {\n",
       "        vertical-align: top;\n",
       "    }\n",
       "\n",
       "    .dataframe thead th {\n",
       "        text-align: right;\n",
       "    }\n",
       "</style>\n",
       "<table border=\"1\" class=\"dataframe\">\n",
       "  <thead>\n",
       "    <tr style=\"text-align: right;\">\n",
       "      <th></th>\n",
       "      <th>Sepal.Length</th>\n",
       "      <th>Sepal.Width</th>\n",
       "      <th>Petal.Length</th>\n",
       "      <th>Petal.Width</th>\n",
       "      <th>Species</th>\n",
       "    </tr>\n",
       "  </thead>\n",
       "  <tbody>\n",
       "    <tr>\n",
       "      <th>1</th>\n",
       "      <td>5.1</td>\n",
       "      <td>3.5</td>\n",
       "      <td>1.4</td>\n",
       "      <td>0.2</td>\n",
       "      <td>setosa</td>\n",
       "    </tr>\n",
       "    <tr>\n",
       "      <th>2</th>\n",
       "      <td>4.9</td>\n",
       "      <td>3.0</td>\n",
       "      <td>1.4</td>\n",
       "      <td>0.2</td>\n",
       "      <td>setosa</td>\n",
       "    </tr>\n",
       "    <tr>\n",
       "      <th>3</th>\n",
       "      <td>4.7</td>\n",
       "      <td>3.2</td>\n",
       "      <td>1.3</td>\n",
       "      <td>0.2</td>\n",
       "      <td>setosa</td>\n",
       "    </tr>\n",
       "    <tr>\n",
       "      <th>4</th>\n",
       "      <td>4.6</td>\n",
       "      <td>3.1</td>\n",
       "      <td>1.5</td>\n",
       "      <td>0.2</td>\n",
       "      <td>setosa</td>\n",
       "    </tr>\n",
       "    <tr>\n",
       "      <th>5</th>\n",
       "      <td>5.0</td>\n",
       "      <td>3.6</td>\n",
       "      <td>1.4</td>\n",
       "      <td>0.2</td>\n",
       "      <td>setosa</td>\n",
       "    </tr>\n",
       "  </tbody>\n",
       "</table>\n",
       "</div>"
      ],
      "text/plain": [
       "   Sepal.Length  Sepal.Width  Petal.Length Petal.Width Species\n",
       "1           5.1          3.5           1.4         0.2  setosa\n",
       "2           4.9          3.0           1.4         0.2  setosa\n",
       "3           4.7          3.2           1.3         0.2  setosa\n",
       "4           4.6          3.1           1.5         0.2  setosa\n",
       "5           5.0          3.6           1.4         0.2  setosa"
      ]
     },
     "execution_count": 5,
     "metadata": {},
     "output_type": "execute_result"
    }
   ],
   "source": [
    "# Check what dataset contains\n",
    "iris_data_raw.head()"
   ]
  },
  {
   "cell_type": "code",
   "execution_count": 6,
   "metadata": {},
   "outputs": [
    {
     "data": {
      "text/plain": [
       "(150, 5)"
      ]
     },
     "execution_count": 6,
     "metadata": {},
     "output_type": "execute_result"
    }
   ],
   "source": [
    "# Check shape of dataset\n",
    "iris_data_raw.shape"
   ]
  },
  {
   "cell_type": "code",
   "execution_count": 7,
   "metadata": {},
   "outputs": [
    {
     "name": "stdout",
     "output_type": "stream",
     "text": [
      "<class 'pandas.core.frame.DataFrame'>\n",
      "Int64Index: 150 entries, 1 to 150\n",
      "Data columns (total 5 columns):\n",
      " #   Column        Non-Null Count  Dtype  \n",
      "---  ------        --------------  -----  \n",
      " 0   Sepal.Length  150 non-null    float64\n",
      " 1   Sepal.Width   149 non-null    float64\n",
      " 2   Petal.Length  150 non-null    float64\n",
      " 3   Petal.Width   150 non-null    object \n",
      " 4   Species       150 non-null    object \n",
      "dtypes: float64(3), object(2)\n",
      "memory usage: 7.0+ KB\n"
     ]
    }
   ],
   "source": [
    "# Basic informations about raw dataset: types of values, nan values etc. Important is that we have one NaN value, so I'll use this fact in my Pipeline.\n",
    "iris_data_raw.info()"
   ]
  },
  {
   "cell_type": "code",
   "execution_count": 8,
   "metadata": {},
   "outputs": [
    {
     "data": {
      "text/plain": [
       "array(['0.2', '0.4', '0.3', '0.1', '0.5', '0.6', '1.4', '1.5', '1.3',\n",
       "       '1.6', '1', '1.1', '1.8', '1.2', '1.7', '2.5', '1.9', '2.1', '2.2',\n",
       "       '2', '2.4', '2.3', '2,2'], dtype=object)"
      ]
     },
     "execution_count": 8,
     "metadata": {},
     "output_type": "execute_result"
    }
   ],
   "source": [
    "# Intuition for check what's wrong with dtype\n",
    "iris_data_raw['Petal.Width'].unique()"
   ]
  },
  {
   "cell_type": "code",
   "execution_count": 9,
   "metadata": {},
   "outputs": [
    {
     "data": {
      "text/plain": [
       "0.2    29\n",
       "1.3    13\n",
       "1.8    12\n",
       "1.5    12\n",
       "2.3     8\n",
       "1.4     8\n",
       "0.3     7\n",
       "1       7\n",
       "0.4     7\n",
       "2       6\n",
       "2.1     6\n",
       "0.1     5\n",
       "1.2     5\n",
       "1.9     5\n",
       "1.6     4\n",
       "2.4     3\n",
       "1.1     3\n",
       "2.5     3\n",
       "2.2     2\n",
       "1.7     2\n",
       "0.5     1\n",
       "2,2     1\n",
       "0.6     1\n",
       "Name: Petal.Width, dtype: int64"
      ]
     },
     "execution_count": 9,
     "metadata": {},
     "output_type": "execute_result"
    }
   ],
   "source": [
    "# Checking unique values from petal_width and counting it\n",
    "iris_data_raw['Petal.Width'].value_counts()"
   ]
  },
  {
   "cell_type": "code",
   "execution_count": 10,
   "metadata": {},
   "outputs": [
    {
     "data": {
      "text/plain": [
       "versicolor    50\n",
       "virginica     50\n",
       "setosa        50\n",
       "Name: Species, dtype: int64"
      ]
     },
     "execution_count": 10,
     "metadata": {},
     "output_type": "execute_result"
    }
   ],
   "source": [
    "# Check if dataset is balanced\n",
    "iris_data_raw['Species'].value_counts()"
   ]
  },
  {
   "cell_type": "code",
   "execution_count": 11,
   "metadata": {},
   "outputs": [],
   "source": [
    "# In this project, this process is necessary because later I referred to lower_case in col_names and also it's my style fetish.\n",
    "iris_data=iris_data_raw\n",
    "iris_data.columns=map(str.lower,iris_data_raw.columns) # lower string in columns\n",
    "iris_data.columns=[str(col_name).replace('.','_') for col_name in iris_data.columns] # replace dot by underscore"
   ]
  },
  {
   "cell_type": "code",
   "execution_count": 12,
   "metadata": {},
   "outputs": [],
   "source": [
    "#Split dataset for train and test set\n",
    "X_train, X_test, y_train, y_test = train_test_split(iris_data_raw.iloc[:,:-1],iris_data_raw.iloc[:,-1] , test_size=0.4, random_state=777, stratify=iris_data_raw.iloc[:,-1]) "
   ]
  },
  {
   "cell_type": "markdown",
   "metadata": {},
   "source": [
    "In split train_test, I used stratify because we have small sample. Moreover I split it here because I don't want to know anything about test_set.\n",
    "You should determine the test value yourself from 10% to 40%, depending on the data. I decided to 40% because I want to use strong model/s."
   ]
  },
  {
   "cell_type": "markdown",
   "metadata": {},
   "source": [
    "**Conclusions from the basic data check**: \n",
    "- balanced dataset with 3 unique species: virginica, versciolor, setosa - good information;\n",
    "- 3 columns with type: float64 and Sepal.Width with NaN value, 2 columns with type: objects; petal_width with dtype object - problem;\n",
    "- last element of list from unique_values has comma instead of dot, that's why dtype is object - problem."
   ]
  },
  {
   "cell_type": "markdown",
   "metadata": {},
   "source": [
    "# Dataset preprocessing and exploratory analysis"
   ]
  },
  {
   "cell_type": "code",
   "execution_count": 13,
   "metadata": {},
   "outputs": [
    {
     "data": {
      "text/html": [
       "<div>\n",
       "<style scoped>\n",
       "    .dataframe tbody tr th:only-of-type {\n",
       "        vertical-align: middle;\n",
       "    }\n",
       "\n",
       "    .dataframe tbody tr th {\n",
       "        vertical-align: top;\n",
       "    }\n",
       "\n",
       "    .dataframe thead th {\n",
       "        text-align: right;\n",
       "    }\n",
       "</style>\n",
       "<table border=\"1\" class=\"dataframe\">\n",
       "  <thead>\n",
       "    <tr style=\"text-align: right;\">\n",
       "      <th></th>\n",
       "      <th>sepal_length</th>\n",
       "      <th>sepal_width</th>\n",
       "      <th>petal_length</th>\n",
       "    </tr>\n",
       "  </thead>\n",
       "  <tbody>\n",
       "    <tr>\n",
       "      <th>count</th>\n",
       "      <td>150.000000</td>\n",
       "      <td>149.000000</td>\n",
       "      <td>150.000000</td>\n",
       "    </tr>\n",
       "    <tr>\n",
       "      <th>mean</th>\n",
       "      <td>5.779333</td>\n",
       "      <td>3.061745</td>\n",
       "      <td>3.758000</td>\n",
       "    </tr>\n",
       "    <tr>\n",
       "      <th>std</th>\n",
       "      <td>1.197721</td>\n",
       "      <td>0.433963</td>\n",
       "      <td>1.765298</td>\n",
       "    </tr>\n",
       "    <tr>\n",
       "      <th>min</th>\n",
       "      <td>-4.800000</td>\n",
       "      <td>2.000000</td>\n",
       "      <td>1.000000</td>\n",
       "    </tr>\n",
       "    <tr>\n",
       "      <th>25%</th>\n",
       "      <td>5.100000</td>\n",
       "      <td>2.800000</td>\n",
       "      <td>1.600000</td>\n",
       "    </tr>\n",
       "    <tr>\n",
       "      <th>50%</th>\n",
       "      <td>5.800000</td>\n",
       "      <td>3.000000</td>\n",
       "      <td>4.350000</td>\n",
       "    </tr>\n",
       "    <tr>\n",
       "      <th>75%</th>\n",
       "      <td>6.400000</td>\n",
       "      <td>3.300000</td>\n",
       "      <td>5.100000</td>\n",
       "    </tr>\n",
       "    <tr>\n",
       "      <th>max</th>\n",
       "      <td>7.900000</td>\n",
       "      <td>4.400000</td>\n",
       "      <td>6.900000</td>\n",
       "    </tr>\n",
       "  </tbody>\n",
       "</table>\n",
       "</div>"
      ],
      "text/plain": [
       "       sepal_length  sepal_width  petal_length\n",
       "count    150.000000   149.000000    150.000000\n",
       "mean       5.779333     3.061745      3.758000\n",
       "std        1.197721     0.433963      1.765298\n",
       "min       -4.800000     2.000000      1.000000\n",
       "25%        5.100000     2.800000      1.600000\n",
       "50%        5.800000     3.000000      4.350000\n",
       "75%        6.400000     3.300000      5.100000\n",
       "max        7.900000     4.400000      6.900000"
      ]
     },
     "execution_count": 13,
     "metadata": {},
     "output_type": "execute_result"
    }
   ],
   "source": [
    "iris_data.describe()"
   ]
  },
  {
   "cell_type": "code",
   "execution_count": 14,
   "metadata": {},
   "outputs": [],
   "source": [
    "def change_dtype(data_series:pd.Series,to_change:any,change_on:any,dtype_criterium:type)->pd.Series:\n",
    "    '''\n",
    "    Method for change dtype for Series in DataFrame.\n",
    "    In this case this function is enough cause I made it for problem with dtype.\n",
    "    '''\n",
    "    if data_series.dtype==object:\n",
    "        data_series=data_series.str.replace(to_change,change_on,regex=True).astype(dtype_criterium)\n",
    "        return data_series\n",
    "    else:\n",
    "        return data_series"
   ]
  },
  {
   "cell_type": "code",
   "execution_count": 15,
   "metadata": {},
   "outputs": [],
   "source": [
    "# This step is for handling with dtypes in dataset\n",
    "iris_data.petal_width=change_dtype(iris_data.petal_width,',','.',dtype_criterium=np.float64)"
   ]
  },
  {
   "cell_type": "code",
   "execution_count": 16,
   "metadata": {},
   "outputs": [
    {
     "name": "stdout",
     "output_type": "stream",
     "text": [
      "<class 'pandas.core.frame.DataFrame'>\n",
      "Int64Index: 150 entries, 1 to 150\n",
      "Data columns (total 5 columns):\n",
      " #   Column        Non-Null Count  Dtype  \n",
      "---  ------        --------------  -----  \n",
      " 0   sepal_length  150 non-null    float64\n",
      " 1   sepal_width   149 non-null    float64\n",
      " 2   petal_length  150 non-null    float64\n",
      " 3   petal_width   150 non-null    float64\n",
      " 4   species       150 non-null    object \n",
      "dtypes: float64(4), object(1)\n",
      "memory usage: 7.0+ KB\n"
     ]
    }
   ],
   "source": [
    "#Check result\n",
    "iris_data.info()"
   ]
  },
  {
   "cell_type": "code",
   "execution_count": 17,
   "metadata": {},
   "outputs": [
    {
     "data": {
      "text/html": [
       "<div>\n",
       "<style scoped>\n",
       "    .dataframe tbody tr th:only-of-type {\n",
       "        vertical-align: middle;\n",
       "    }\n",
       "\n",
       "    .dataframe tbody tr th {\n",
       "        vertical-align: top;\n",
       "    }\n",
       "\n",
       "    .dataframe thead th {\n",
       "        text-align: right;\n",
       "    }\n",
       "</style>\n",
       "<table border=\"1\" class=\"dataframe\">\n",
       "  <thead>\n",
       "    <tr style=\"text-align: right;\">\n",
       "      <th></th>\n",
       "      <th>sepal_length</th>\n",
       "      <th>sepal_width</th>\n",
       "      <th>petal_length</th>\n",
       "      <th>petal_width</th>\n",
       "    </tr>\n",
       "  </thead>\n",
       "  <tbody>\n",
       "    <tr>\n",
       "      <th>count</th>\n",
       "      <td>150.000000</td>\n",
       "      <td>149.000000</td>\n",
       "      <td>150.000000</td>\n",
       "      <td>150.000000</td>\n",
       "    </tr>\n",
       "    <tr>\n",
       "      <th>mean</th>\n",
       "      <td>5.779333</td>\n",
       "      <td>3.061745</td>\n",
       "      <td>3.758000</td>\n",
       "      <td>1.199333</td>\n",
       "    </tr>\n",
       "    <tr>\n",
       "      <th>std</th>\n",
       "      <td>1.197721</td>\n",
       "      <td>0.433963</td>\n",
       "      <td>1.765298</td>\n",
       "      <td>0.762238</td>\n",
       "    </tr>\n",
       "    <tr>\n",
       "      <th>min</th>\n",
       "      <td>-4.800000</td>\n",
       "      <td>2.000000</td>\n",
       "      <td>1.000000</td>\n",
       "      <td>0.100000</td>\n",
       "    </tr>\n",
       "    <tr>\n",
       "      <th>25%</th>\n",
       "      <td>5.100000</td>\n",
       "      <td>2.800000</td>\n",
       "      <td>1.600000</td>\n",
       "      <td>0.300000</td>\n",
       "    </tr>\n",
       "    <tr>\n",
       "      <th>50%</th>\n",
       "      <td>5.800000</td>\n",
       "      <td>3.000000</td>\n",
       "      <td>4.350000</td>\n",
       "      <td>1.300000</td>\n",
       "    </tr>\n",
       "    <tr>\n",
       "      <th>75%</th>\n",
       "      <td>6.400000</td>\n",
       "      <td>3.300000</td>\n",
       "      <td>5.100000</td>\n",
       "      <td>1.800000</td>\n",
       "    </tr>\n",
       "    <tr>\n",
       "      <th>max</th>\n",
       "      <td>7.900000</td>\n",
       "      <td>4.400000</td>\n",
       "      <td>6.900000</td>\n",
       "      <td>2.500000</td>\n",
       "    </tr>\n",
       "  </tbody>\n",
       "</table>\n",
       "</div>"
      ],
      "text/plain": [
       "       sepal_length  sepal_width  petal_length  petal_width\n",
       "count    150.000000   149.000000    150.000000   150.000000\n",
       "mean       5.779333     3.061745      3.758000     1.199333\n",
       "std        1.197721     0.433963      1.765298     0.762238\n",
       "min       -4.800000     2.000000      1.000000     0.100000\n",
       "25%        5.100000     2.800000      1.600000     0.300000\n",
       "50%        5.800000     3.000000      4.350000     1.300000\n",
       "75%        6.400000     3.300000      5.100000     1.800000\n",
       "max        7.900000     4.400000      6.900000     2.500000"
      ]
     },
     "execution_count": 17,
     "metadata": {},
     "output_type": "execute_result"
    }
   ],
   "source": [
    "iris_data.describe()"
   ]
  },
  {
   "cell_type": "markdown",
   "metadata": {},
   "source": [
    "**Conclusion**: there may be outlier/s in dataset, because dataset has negative value in min assigned to sepal_length."
   ]
  },
  {
   "cell_type": "code",
   "execution_count": 18,
   "metadata": {},
   "outputs": [
    {
     "data": {
      "image/png": "[encoded data removed]",
      "text/plain": [
       "<Figure size 720x360 with 4 Axes>"
      ]
     },
     "metadata": {
      "needs_background": "light"
     },
     "output_type": "display_data"
    }
   ],
   "source": [
    "# Make histogram plots for visualize distributions for each feature from dataset.\n",
    "iris_data.hist(bins=10,figsize=(10,5))\n",
    "# plt.savefig(\"plots/feature_histograms.png\",quality=95)\n",
    "plt.show()"
   ]
  },
  {
   "cell_type": "markdown",
   "metadata": {},
   "source": [
    "**Conclusion**: I suppose that, dataset can have one outlier at least."
   ]
  },
  {
   "cell_type": "code",
   "execution_count": 19,
   "metadata": {},
   "outputs": [],
   "source": [
    "# Defining function to make violin plots for visualize distributions for each feature from dataset.\n",
    "def violinplot_features(data:pd.DataFrame,columns:List,figsize: Tuple)-> None:\n",
    "    '''\n",
    "    Method which show and save violin plots in our Dataframe.\n",
    "    '''\n",
    "    i=0 \n",
    "    for column in columns:\n",
    "        plt.figure(figsize=figsize)\n",
    "        plt.subplot(2,2,1)\n",
    "        i+=1\n",
    "        sns_violin= sns.violinplot(data=data,x='species',y=column)\n",
    "        plt.savefig(\"plots/violinplot_\"+str(i)+'.png',quality=95)   \n",
    "        plt.show()"
   ]
  },
  {
   "cell_type": "code",
   "execution_count": 20,
   "metadata": {},
   "outputs": [
    {
     "data": {
      "image/png": "[encoded data removed]",
      "text/plain": [
       "<Figure size 1080x1080 with 1 Axes>"
      ]
     },
     "metadata": {
      "needs_background": "light"
     },
     "output_type": "display_data"
    },
    {
     "data": {
      "image/png": "[encoded data removed]",
      "text/plain": [
       "<Figure size 1080x1080 with 1 Axes>"
      ]
     },
     "metadata": {
      "needs_background": "light"
     },
     "output_type": "display_data"
    },
    {
     "data": {
      "image/png": "[encoded data removed]",
      "text/plain": [
       "<Figure size 1080x1080 with 1 Axes>"
      ]
     },
     "metadata": {
      "needs_background": "light"
     },
     "output_type": "display_data"
    },
    {
     "data": {
      "image/png": "[encoded data removed]",
      "text/plain": [
       "<Figure size 1080x1080 with 1 Axes>"
      ]
     },
     "metadata": {
      "needs_background": "light"
     },
     "output_type": "display_data"
    }
   ],
   "source": [
    "# Prefer violin plots to check for outliers in our feature, and better visualization.\n",
    "violinplot_features(data=iris_data,columns=iris_data.columns[:-1],figsize=(15,15))"
   ]
  },
  {
   "cell_type": "markdown",
   "metadata": {},
   "source": [
    "**Conclusion**: Especially we can notice outlier in specie: setosa, in column sepal_length (in my opinion: value less or equal zero should be treated as outlier in this case). This is very important information cause it has to be eliminate. If we have a lot of outliers we can use for example Robust Scaler etc. I can treat this value as an outlier, cause it's negative (logical point of view: sepal length less than zero, it's nonsense...).\n",
    "\n",
    "Annotation: Of course, everything depends on what we define as an outlier in our dataset. I decided to limit myself to this case only and not to use, a method that uses statistics. I encountered a case of subtracting a median from a value and using an absolute value on this, and then checking if it is greater than the standard deviation. It is not excluded that perhaps deleting a line with a negative value would be a better solution (but we have small dataset)."
   ]
  },
  {
   "cell_type": "code",
   "execution_count": 21,
   "metadata": {},
   "outputs": [
    {
     "data": {
      "text/html": [
       "<div>\n",
       "<style scoped>\n",
       "    .dataframe tbody tr th:only-of-type {\n",
       "        vertical-align: middle;\n",
       "    }\n",
       "\n",
       "    .dataframe tbody tr th {\n",
       "        vertical-align: top;\n",
       "    }\n",
       "\n",
       "    .dataframe thead th {\n",
       "        text-align: right;\n",
       "    }\n",
       "</style>\n",
       "<table border=\"1\" class=\"dataframe\">\n",
       "  <thead>\n",
       "    <tr style=\"text-align: right;\">\n",
       "      <th></th>\n",
       "      <th>sepal_length</th>\n",
       "      <th>sepal_width</th>\n",
       "      <th>petal_length</th>\n",
       "      <th>petal_width</th>\n",
       "    </tr>\n",
       "  </thead>\n",
       "  <tbody>\n",
       "    <tr>\n",
       "      <th>sepal_length</th>\n",
       "      <td>1.000000</td>\n",
       "      <td>-0.126954</td>\n",
       "      <td>0.659321</td>\n",
       "      <td>0.636024</td>\n",
       "    </tr>\n",
       "    <tr>\n",
       "      <th>sepal_width</th>\n",
       "      <td>-0.126954</td>\n",
       "      <td>1.000000</td>\n",
       "      <td>-0.432109</td>\n",
       "      <td>-0.371743</td>\n",
       "    </tr>\n",
       "    <tr>\n",
       "      <th>petal_length</th>\n",
       "      <td>0.659321</td>\n",
       "      <td>-0.432109</td>\n",
       "      <td>1.000000</td>\n",
       "      <td>0.962865</td>\n",
       "    </tr>\n",
       "    <tr>\n",
       "      <th>petal_width</th>\n",
       "      <td>0.636024</td>\n",
       "      <td>-0.371743</td>\n",
       "      <td>0.962865</td>\n",
       "      <td>1.000000</td>\n",
       "    </tr>\n",
       "  </tbody>\n",
       "</table>\n",
       "</div>"
      ],
      "text/plain": [
       "              sepal_length  sepal_width  petal_length  petal_width\n",
       "sepal_length      1.000000    -0.126954      0.659321     0.636024\n",
       "sepal_width      -0.126954     1.000000     -0.432109    -0.371743\n",
       "petal_length      0.659321    -0.432109      1.000000     0.962865\n",
       "petal_width       0.636024    -0.371743      0.962865     1.000000"
      ]
     },
     "execution_count": 21,
     "metadata": {},
     "output_type": "execute_result"
    }
   ],
   "source": [
    "# Correlation matrix\n",
    "iris_data.corr()"
   ]
  },
  {
   "cell_type": "code",
   "execution_count": 22,
   "metadata": {},
   "outputs": [
    {
     "data": {
      "text/html": [
       "<div>\n",
       "<style scoped>\n",
       "    .dataframe tbody tr th:only-of-type {\n",
       "        vertical-align: middle;\n",
       "    }\n",
       "\n",
       "    .dataframe tbody tr th {\n",
       "        vertical-align: top;\n",
       "    }\n",
       "\n",
       "    .dataframe thead th {\n",
       "        text-align: right;\n",
       "    }\n",
       "</style>\n",
       "<table border=\"1\" class=\"dataframe\">\n",
       "  <thead>\n",
       "    <tr style=\"text-align: right;\">\n",
       "      <th></th>\n",
       "      <th>sepal_length</th>\n",
       "      <th>sepal_width</th>\n",
       "      <th>petal_length</th>\n",
       "      <th>petal_width</th>\n",
       "      <th>species</th>\n",
       "    </tr>\n",
       "  </thead>\n",
       "  <tbody>\n",
       "    <tr>\n",
       "      <th>25</th>\n",
       "      <td>-4.8</td>\n",
       "      <td>3.4</td>\n",
       "      <td>1.9</td>\n",
       "      <td>0.2</td>\n",
       "      <td>setosa</td>\n",
       "    </tr>\n",
       "  </tbody>\n",
       "</table>\n",
       "</div>"
      ],
      "text/plain": [
       "    sepal_length  sepal_width  petal_length  petal_width species\n",
       "25          -4.8          3.4           1.9          0.2  setosa"
      ]
     },
     "execution_count": 22,
     "metadata": {},
     "output_type": "execute_result"
    }
   ],
   "source": [
    "# Finding negative value\n",
    "iris_data[iris_data['sepal_length']<=0 |(iris_data['sepal_width']<=0) | \n",
    "                     (iris_data['petal_length']<=0) | (iris_data['petal_length']<=0)]"
   ]
  },
  {
   "cell_type": "markdown",
   "metadata": {},
   "source": [
    "We can notice strong correlation between petal_length and petal_width. Moreover in dataset petal_length, petal_width have medium correlation between themselves."
   ]
  },
  {
   "cell_type": "markdown",
   "metadata": {},
   "source": [
    "I extract it this way because someone who has a similar dataset ( Explanation for someone who will read this notebook) may have more negative \n",
    "values in other columns."
   ]
  },
  {
   "cell_type": "markdown",
   "metadata": {},
   "source": [
    "I dont want to interfere in distribution (and don't want lose sample) in my dataset, so that is why I use median from train_set to change this value."
   ]
  },
  {
   "cell_type": "code",
   "execution_count": 23,
   "metadata": {},
   "outputs": [],
   "source": [
    "# Function for replace negative values in columns by median or mean. \n",
    "# Attention: I would'nt use mean, cause in few cases it could change distribution, but probably in this it' wont. \n",
    "def replace_negative(data_series:pd.Series,by:str)->pd.Series:\n",
    "    '''\n",
    "    Method for replace negative values in Series from DataFrame.\n",
    "    It can be much more extensive.\n",
    "    '''\n",
    "    try:\n",
    "        if by=='median':\n",
    "            data_series=np.where(data_series<=0,data_series.median(),data_series)\n",
    "            return data_series\n",
    "        elif by=='mean':\n",
    "            data_series=np.where(data_series<=0,data_series.mean(),data_series)\n",
    "            return data_series\n",
    "    except:\n",
    "        print('Please use median or mean')"
   ]
  },
  {
   "cell_type": "code",
   "execution_count": 24,
   "metadata": {},
   "outputs": [],
   "source": [
    "iris_data.sepal_length= replace_negative(iris_data.sepal_length,by='median')"
   ]
  },
  {
   "cell_type": "markdown",
   "metadata": {},
   "source": [
    "# Prepare pipeline"
   ]
  },
  {
   "cell_type": "markdown",
   "metadata": {},
   "source": [
    "This section is about handling all available data in order to create correct pipeline."
   ]
  },
  {
   "cell_type": "code",
   "execution_count": 25,
   "metadata": {},
   "outputs": [],
   "source": [
    "iris_data_cols=list(iris_data.columns)"
   ]
  },
  {
   "cell_type": "code",
   "execution_count": 26,
   "metadata": {},
   "outputs": [
    {
     "data": {
      "text/plain": [
       "['sepal_length', 'sepal_width', 'petal_length', 'petal_width', 'species']"
      ]
     },
     "execution_count": 26,
     "metadata": {},
     "output_type": "execute_result"
    }
   ],
   "source": [
    "iris_data_cols"
   ]
  },
  {
   "cell_type": "code",
   "execution_count": 27,
   "metadata": {},
   "outputs": [],
   "source": [
    "# SimpleImputer for replace NaN values by median\n",
    "imputer = SimpleImputer(strategy=\"median\")\n",
    "iris_data_num=iris_data.drop('species',axis=1)\n",
    "imputer.fit(iris_data_num)\n",
    "X=imputer.transform(iris_data_num)\n",
    "X=pd.DataFrame(X,columns=iris_data_num.columns)"
   ]
  },
  {
   "cell_type": "code",
   "execution_count": 28,
   "metadata": {},
   "outputs": [
    {
     "data": {
      "text/plain": [
       "array([5.8 , 3.  , 4.35, 1.3 ])"
      ]
     },
     "execution_count": 28,
     "metadata": {},
     "output_type": "execute_result"
    }
   ],
   "source": [
    "# Check median for each feature\n",
    "imputer.statistics_"
   ]
  },
  {
   "cell_type": "markdown",
   "metadata": {},
   "source": [
    "**Idea**: A good possibility would be to build custom imputer where somebody could include an option to replace outliers or any other method to handle with that.  Of course, this is one of possibilities to check. The truth is that many other options could be added, so that it would consider many use cases, everything depends on data streaming."
   ]
  },
  {
   "cell_type": "markdown",
   "metadata": {},
   "source": [
    "**Intuition**: I'll use LabelBinarizer approach (but custom class) in this case cause it will be better than creating one vector for labels. We have 3 classes so in case with one vector output will be 0 1 2, and I don't want to have any relations in output."
   ]
  },
  {
   "cell_type": "code",
   "execution_count": 29,
   "metadata": {},
   "outputs": [
    {
     "data": {
      "text/html": [
       "<div>\n",
       "<style scoped>\n",
       "    .dataframe tbody tr th:only-of-type {\n",
       "        vertical-align: middle;\n",
       "    }\n",
       "\n",
       "    .dataframe tbody tr th {\n",
       "        vertical-align: top;\n",
       "    }\n",
       "\n",
       "    .dataframe thead th {\n",
       "        text-align: right;\n",
       "    }\n",
       "</style>\n",
       "<table border=\"1\" class=\"dataframe\">\n",
       "  <thead>\n",
       "    <tr style=\"text-align: right;\">\n",
       "      <th></th>\n",
       "      <th>sepal_length</th>\n",
       "      <th>sepal_width</th>\n",
       "      <th>petal_length</th>\n",
       "      <th>petal_width</th>\n",
       "    </tr>\n",
       "  </thead>\n",
       "  <tbody>\n",
       "    <tr>\n",
       "      <th>count</th>\n",
       "      <td>150.000000</td>\n",
       "      <td>150.000000</td>\n",
       "      <td>150.000000</td>\n",
       "      <td>150.000000</td>\n",
       "    </tr>\n",
       "    <tr>\n",
       "      <th>mean</th>\n",
       "      <td>5.850000</td>\n",
       "      <td>3.061333</td>\n",
       "      <td>3.758000</td>\n",
       "      <td>1.199333</td>\n",
       "    </tr>\n",
       "    <tr>\n",
       "      <th>std</th>\n",
       "      <td>0.823624</td>\n",
       "      <td>0.432534</td>\n",
       "      <td>1.765298</td>\n",
       "      <td>0.762238</td>\n",
       "    </tr>\n",
       "    <tr>\n",
       "      <th>min</th>\n",
       "      <td>4.300000</td>\n",
       "      <td>2.000000</td>\n",
       "      <td>1.000000</td>\n",
       "      <td>0.100000</td>\n",
       "    </tr>\n",
       "    <tr>\n",
       "      <th>25%</th>\n",
       "      <td>5.100000</td>\n",
       "      <td>2.800000</td>\n",
       "      <td>1.600000</td>\n",
       "      <td>0.300000</td>\n",
       "    </tr>\n",
       "    <tr>\n",
       "      <th>50%</th>\n",
       "      <td>5.800000</td>\n",
       "      <td>3.000000</td>\n",
       "      <td>4.350000</td>\n",
       "      <td>1.300000</td>\n",
       "    </tr>\n",
       "    <tr>\n",
       "      <th>75%</th>\n",
       "      <td>6.400000</td>\n",
       "      <td>3.300000</td>\n",
       "      <td>5.100000</td>\n",
       "      <td>1.800000</td>\n",
       "    </tr>\n",
       "    <tr>\n",
       "      <th>max</th>\n",
       "      <td>7.900000</td>\n",
       "      <td>4.400000</td>\n",
       "      <td>6.900000</td>\n",
       "      <td>2.500000</td>\n",
       "    </tr>\n",
       "  </tbody>\n",
       "</table>\n",
       "</div>"
      ],
      "text/plain": [
       "       sepal_length  sepal_width  petal_length  petal_width\n",
       "count    150.000000   150.000000    150.000000   150.000000\n",
       "mean       5.850000     3.061333      3.758000     1.199333\n",
       "std        0.823624     0.432534      1.765298     0.762238\n",
       "min        4.300000     2.000000      1.000000     0.100000\n",
       "25%        5.100000     2.800000      1.600000     0.300000\n",
       "50%        5.800000     3.000000      4.350000     1.300000\n",
       "75%        6.400000     3.300000      5.100000     1.800000\n",
       "max        7.900000     4.400000      6.900000     2.500000"
      ]
     },
     "execution_count": 29,
     "metadata": {},
     "output_type": "execute_result"
    }
   ],
   "source": [
    "X.describe()"
   ]
  },
  {
   "cell_type": "code",
   "execution_count": 30,
   "metadata": {},
   "outputs": [],
   "source": [
    "encoder= LabelBinarizer()\n",
    "iris_data_cat=iris_data['species']\n",
    "iris_data_encoded=encoder.fit_transform(iris_data_cat)"
   ]
  },
  {
   "cell_type": "code",
   "execution_count": 31,
   "metadata": {},
   "outputs": [],
   "source": [
    "y=pd.DataFrame(iris_data_encoded,columns=encoder.classes_)"
   ]
  },
  {
   "cell_type": "markdown",
   "metadata": {},
   "source": [
    "# Create full pipeline\n",
    "\n",
    "Of course building pipelines is the way which is recommended by sklearn documentation. In many cases we use this only in the final stage of experimentation. \n",
    "\n",
    "Important thing: Usually the data is not as good as in this case. I just let myself to use pipeline."
   ]
  },
  {
   "cell_type": "code",
   "execution_count": 32,
   "metadata": {},
   "outputs": [],
   "source": [
    "#Make df_selector\n",
    "class Selector(BaseEstimator,TransformerMixin):\n",
    "    def __init__(self,col_names: List)-> None:\n",
    "        self.col_names=col_names\n",
    "    def fit(self,X:pd.DataFrame,y=None):\n",
    "        return self\n",
    "    def transform(self,X:pd.DataFrame)->np.ndarray:\n",
    "        return X[self.col_names].values"
   ]
  },
  {
   "cell_type": "code",
   "execution_count": 33,
   "metadata": {},
   "outputs": [],
   "source": [
    "# Custom because, normal LabelBinarizer it's not good for FeatureUnion, and in this case it would not work\n",
    "class CustomLabelBinarizer(LabelBinarizer):\n",
    "    def fit(self, X, y=None)->None:\n",
    "        super(CustomLabelBinarizer, self).fit(X)\n",
    "    \n",
    "    def transform(self, X, y=None)->np.ndarray:\n",
    "        return super(CustomLabelBinarizer, self).transform(X)\n",
    "    \n",
    "    def fit_transform(self, X, y=None)->np.ndarray:\n",
    "        return super(CustomLabelBinarizer, self).fit(X).transform(X)"
   ]
  },
  {
   "cell_type": "code",
   "execution_count": 34,
   "metadata": {},
   "outputs": [],
   "source": [
    "# Standard procedure for preparing pipeline. I divided it for 2 for readability\n",
    "categorical_pipeline=Pipeline([\n",
    "    ('selector',Selector(iris_data_cols[-1])),\n",
    "    ('label_encoder',CustomLabelBinarizer()),\n",
    "])\n",
    "numeric_pipeline=Pipeline([\n",
    "    ('selector',Selector(iris_data_cols[:-1])),\n",
    "    ('imputer',SimpleImputer(strategy='median')),\n",
    "    ('scaler',StandardScaler())\n",
    "])\n",
    "whole_pipeline=FeatureUnion([\n",
    "    ('numeric_pipeline',numeric_pipeline),\n",
    "    ('categorical_pipeline',categorical_pipeline)\n",
    "])"
   ]
  },
  {
   "cell_type": "markdown",
   "metadata": {},
   "source": [
    "# Launch pipeline"
   ]
  },
  {
   "cell_type": "code",
   "execution_count": 35,
   "metadata": {},
   "outputs": [],
   "source": [
    "# Concatenation for data\n",
    "iris_train=pd.concat([X_train,y_train],axis=1)\n",
    "iris_test=pd.concat([X_test,y_test],axis=1)"
   ]
  },
  {
   "cell_type": "code",
   "execution_count": 36,
   "metadata": {},
   "outputs": [],
   "source": [
    "# Preprocessing steps with changing dtype, replace negative\n",
    "# I used here apriori knowledge. In production deployment it is better to automate this process.\n",
    "\n",
    "# Change dtype function\n",
    "iris_train.petal_width=change_dtype(iris_data.petal_width,',','.',dtype_criterium=np.float64)\n",
    "iris_test.petal_width=change_dtype(iris_test.petal_width,',','.',dtype_criterium=np.float64)\n",
    "\n",
    "#Replace negatives function\n",
    "iris_train.sepal_length= replace_negative(iris_train.sepal_length,by='median')\n",
    "iris_test.sepal_length= replace_negative(iris_test.sepal_length,by='median')"
   ]
  },
  {
   "cell_type": "code",
   "execution_count": 37,
   "metadata": {},
   "outputs": [],
   "source": [
    "# I split it for better readability in my opinion\n",
    "\n",
    "iris_train_pipeline_train= whole_pipeline.fit_transform(iris_train)\n",
    "iris_train_pipeline_test= whole_pipeline.fit_transform(iris_test)\n",
    "\n",
    "iris_data_pipeline_train= pd.DataFrame(iris_train_pipeline_train,columns=['sepal_length','sepal_width','petal_length',\n",
    "                                                                                         'petal_width','setosa','versicolor','virginica'])\n",
    "iris_data_pipeline_test=pd.DataFrame(iris_train_pipeline_test,columns=['sepal_length','sepal_width','petal_length',\n",
    "                                                                                         'petal_width','setosa','versicolor','virginica'])"
   ]
  },
  {
   "cell_type": "code",
   "execution_count": 38,
   "metadata": {},
   "outputs": [],
   "source": [
    "#Separate datasets on X,y\n",
    "\n",
    "# Train\n",
    "iris_data_pipeline_train_X=pd.DataFrame(iris_data_pipeline_train.iloc[:,0:4],columns=['sepal_length','sepal_width','petal_length','petal_width'])\n",
    "iris_data_pipeline_train_y=pd.DataFrame(iris_data_pipeline_train.iloc[:,4:],columns=['setosa','versicolor','virginica'])\n",
    "\n",
    "# Test\n",
    "iris_data_pipeline_test_X=pd.DataFrame(iris_data_pipeline_test.iloc[:,0:4],columns=['sepal_length','sepal_width','petal_length','petal_width'])\n",
    "iris_data_pipeline_test_y=pd.DataFrame(iris_data_pipeline_test.iloc[:,4:],columns=['setosa','versicolor','virginica'])"
   ]
  },
  {
   "cell_type": "markdown",
   "metadata": {},
   "source": [
    "# Model/s\n",
    "In this section I want to check model or few models (depends on results) in this classification problem."
   ]
  },
  {
   "cell_type": "markdown",
   "metadata": {},
   "source": [
    "### RandomForestClassifier\n",
    "### Check classifier on training dataset."
   ]
  },
  {
   "cell_type": "code",
   "execution_count": 39,
   "metadata": {},
   "outputs": [
    {
     "name": "stderr",
     "output_type": "stream",
     "text": [
      "[Parallel(n_jobs=1)]: Using backend SequentialBackend with 1 concurrent workers.\n",
      "[Parallel(n_jobs=1)]: Done   3 out of   3 | elapsed:    0.0s finished\n"
     ]
    },
    {
     "data": {
      "text/plain": [
       "RandomForestClassifier(bootstrap=True, ccp_alpha=0.0, class_weight=None,\n",
       "                       criterion='entropy', max_depth=None, max_features='auto',\n",
       "                       max_leaf_nodes=None, max_samples=None,\n",
       "                       min_impurity_decrease=0.0, min_impurity_split=None,\n",
       "                       min_samples_leaf=1, min_samples_split=2,\n",
       "                       min_weight_fraction_leaf=0.0, n_estimators=3,\n",
       "                       n_jobs=None, oob_score=False, random_state=777,\n",
       "                       verbose=1, warm_start=False)"
      ]
     },
     "execution_count": 39,
     "metadata": {},
     "output_type": "execute_result"
    }
   ],
   "source": [
    "#Random Forest Classifier inicialize and fit by train\n",
    "forest_classifier= RandomForestClassifier(n_estimators=3,random_state=777,verbose=1,criterion='entropy') #entropy generate more balanced trees\n",
    "forest_classifier.fit(iris_data_pipeline_train_X,iris_data_pipeline_train_y)"
   ]
  },
  {
   "cell_type": "markdown",
   "metadata": {},
   "source": [
    "Make cross_validation for train_set to see how the model performs on the training data."
   ]
  },
  {
   "cell_type": "code",
   "execution_count": 40,
   "metadata": {},
   "outputs": [
    {
     "name": "stderr",
     "output_type": "stream",
     "text": [
      "[Parallel(n_jobs=1)]: Using backend SequentialBackend with 1 concurrent workers.\n",
      "[Parallel(n_jobs=1)]: Done   3 out of   3 | elapsed:    0.0s finished\n",
      "[Parallel(n_jobs=1)]: Using backend SequentialBackend with 1 concurrent workers.\n",
      "[Parallel(n_jobs=1)]: Done   3 out of   3 | elapsed:    0.0s finished\n",
      "[Parallel(n_jobs=1)]: Using backend SequentialBackend with 1 concurrent workers.\n",
      "[Parallel(n_jobs=1)]: Done   3 out of   3 | elapsed:    0.0s finished\n",
      "[Parallel(n_jobs=1)]: Using backend SequentialBackend with 1 concurrent workers.\n",
      "[Parallel(n_jobs=1)]: Done   3 out of   3 | elapsed:    0.0s finished\n",
      "[Parallel(n_jobs=1)]: Using backend SequentialBackend with 1 concurrent workers.\n",
      "[Parallel(n_jobs=1)]: Done   3 out of   3 | elapsed:    0.0s finished\n",
      "[Parallel(n_jobs=1)]: Using backend SequentialBackend with 1 concurrent workers.\n",
      "[Parallel(n_jobs=1)]: Done   3 out of   3 | elapsed:    0.0s finished\n"
     ]
    },
    {
     "data": {
      "text/plain": [
       "array([0.96666667, 0.96666667, 0.96666667])"
      ]
     },
     "execution_count": 40,
     "metadata": {},
     "output_type": "execute_result"
    }
   ],
   "source": [
    "# Cross validation score\n",
    "cross_val_score(forest_classifier,iris_data_pipeline_train_X,iris_data_pipeline_train_y,cv=3,scoring='accuracy')"
   ]
  },
  {
   "cell_type": "markdown",
   "metadata": {},
   "source": [
    "**Conclusion**: In all subsets in cross_validation the accuracy of the classifier is above 90%. In this case we can conclude that the classifier works very well on the training set. (but we can suppose that its too strong) It is also worth taking into account the fact that a balanced dataset contributes significantly to this. In many cases only accuracy is not good metric it's worthwhile to create a confusion matrix and a classification report to see precision, recall etc."
   ]
  },
  {
   "cell_type": "code",
   "execution_count": 41,
   "metadata": {},
   "outputs": [
    {
     "name": "stderr",
     "output_type": "stream",
     "text": [
      "[Parallel(n_jobs=1)]: Using backend SequentialBackend with 1 concurrent workers.\n",
      "[Parallel(n_jobs=1)]: Done   3 out of   3 | elapsed:    0.0s finished\n",
      "[Parallel(n_jobs=1)]: Using backend SequentialBackend with 1 concurrent workers.\n",
      "[Parallel(n_jobs=1)]: Done   3 out of   3 | elapsed:    0.0s finished\n",
      "[Parallel(n_jobs=1)]: Using backend SequentialBackend with 1 concurrent workers.\n",
      "[Parallel(n_jobs=1)]: Done   3 out of   3 | elapsed:    0.0s finished\n",
      "[Parallel(n_jobs=1)]: Using backend SequentialBackend with 1 concurrent workers.\n",
      "[Parallel(n_jobs=1)]: Done   3 out of   3 | elapsed:    0.0s finished\n",
      "[Parallel(n_jobs=1)]: Using backend SequentialBackend with 1 concurrent workers.\n",
      "[Parallel(n_jobs=1)]: Done   3 out of   3 | elapsed:    0.0s finished\n",
      "[Parallel(n_jobs=1)]: Using backend SequentialBackend with 1 concurrent workers.\n",
      "[Parallel(n_jobs=1)]: Done   3 out of   3 | elapsed:    0.0s finished\n",
      "[Parallel(n_jobs=1)]: Using backend SequentialBackend with 1 concurrent workers.\n",
      "[Parallel(n_jobs=1)]: Done   3 out of   3 | elapsed:    0.0s finished\n",
      "[Parallel(n_jobs=1)]: Using backend SequentialBackend with 1 concurrent workers.\n",
      "[Parallel(n_jobs=1)]: Done   3 out of   3 | elapsed:    0.0s finished\n",
      "[Parallel(n_jobs=1)]: Using backend SequentialBackend with 1 concurrent workers.\n",
      "[Parallel(n_jobs=1)]: Done   3 out of   3 | elapsed:    0.0s finished\n",
      "[Parallel(n_jobs=1)]: Using backend SequentialBackend with 1 concurrent workers.\n",
      "[Parallel(n_jobs=1)]: Done   3 out of   3 | elapsed:    0.0s finished\n"
     ]
    }
   ],
   "source": [
    "# Getting predictions from cross validation\n",
    "cross_val_pred=cross_val_predict(forest_classifier,iris_data_pipeline_train_X,iris_data_pipeline_train_y)"
   ]
  },
  {
   "cell_type": "code",
   "execution_count": 42,
   "metadata": {},
   "outputs": [
    {
     "name": "stdout",
     "output_type": "stream",
     "text": [
      "              precision    recall  f1-score   support\n",
      "\n",
      "      setosa       1.00      1.00      1.00        30\n",
      "  versicolor       0.97      1.00      0.98        30\n",
      "   virginica       1.00      0.97      0.98        30\n",
      "\n",
      "   micro avg       0.99      0.99      0.99        90\n",
      "   macro avg       0.99      0.99      0.99        90\n",
      "weighted avg       0.99      0.99      0.99        90\n",
      " samples avg       0.99      0.99      0.99        90\n",
      "\n"
     ]
    }
   ],
   "source": [
    "# Check how our model works on train dataset\n",
    "print(classification_report(iris_data_pipeline_train_y, cross_val_pred, target_names=encoder.classes_))"
   ]
  },
  {
   "cell_type": "markdown",
   "metadata": {},
   "source": [
    "### Check classifier on test dataset."
   ]
  },
  {
   "cell_type": "code",
   "execution_count": 43,
   "metadata": {},
   "outputs": [
    {
     "name": "stderr",
     "output_type": "stream",
     "text": [
      "[Parallel(n_jobs=1)]: Using backend SequentialBackend with 1 concurrent workers.\n",
      "[Parallel(n_jobs=1)]: Done   3 out of   3 | elapsed:    0.0s finished\n"
     ]
    }
   ],
   "source": [
    "# Get predictions from test\n",
    "test_pred=forest_classifier.predict(iris_data_pipeline_test_X)"
   ]
  },
  {
   "cell_type": "code",
   "execution_count": 44,
   "metadata": {},
   "outputs": [
    {
     "name": "stdout",
     "output_type": "stream",
     "text": [
      "              precision    recall  f1-score   support\n",
      "\n",
      "      setosa       1.00      1.00      1.00        20\n",
      "  versicolor       0.95      0.90      0.92        20\n",
      "   virginica       0.90      0.95      0.93        20\n",
      "\n",
      "   micro avg       0.95      0.95      0.95        60\n",
      "   macro avg       0.95      0.95      0.95        60\n",
      "weighted avg       0.95      0.95      0.95        60\n",
      " samples avg       0.95      0.95      0.95        60\n",
      "\n"
     ]
    }
   ],
   "source": [
    "# Check house model works on test\n",
    "print(classification_report(iris_data_pipeline_test_y, test_pred, target_names=encoder.classes_))"
   ]
  },
  {
   "cell_type": "markdown",
   "metadata": {},
   "source": [
    "In addition to the classification report, it is better to create a confusion matrix and from it conclude what has been classified good/bad.\n",
    "Besides that, customers like a colourful representation. :)"
   ]
  },
  {
   "cell_type": "code",
   "execution_count": 45,
   "metadata": {},
   "outputs": [
    {
     "data": {
      "image/png": "[encoded data removed]",
      "text/plain": [
       "<Figure size 720x432 with 2 Axes>"
      ]
     },
     "metadata": {
      "needs_background": "light"
     },
     "output_type": "display_data"
    }
   ],
   "source": [
    "# Create confusion matrix\n",
    "forest_clf_matrix=confusion_matrix(iris_data_pipeline_test_y.values.argmax(axis=1),test_pred.argmax(axis=1))\n",
    "forest_cm_df = pd.DataFrame(forest_clf_matrix,encoder.classes_,encoder.classes_)\n",
    "plt.figure(figsize=(10,6))  \n",
    "sns.heatmap(forest_cm_df, annot=True)\n",
    "plt.savefig('plots/forest_cm_777.png',quality=95)"
   ]
  },
  {
   "cell_type": "code",
   "execution_count": 46,
   "metadata": {},
   "outputs": [
    {
     "data": {
      "text/plain": [
       "['/home/jakubj/JupyterNotebooks/iris_task_1/models/iris_rforest_classifier_777.joblib.pkl']"
      ]
     },
     "execution_count": 46,
     "metadata": {},
     "output_type": "execute_result"
    }
   ],
   "source": [
    "file_path = PROJECT_PATH+'/models/iris_forest_classifier_777.joblib.pkl'\n",
    "# Compress 0 because it's not big model\n",
    "joblib.dump(forest_classifier, file_path, compress=0)"
   ]
  },
  {
   "cell_type": "markdown",
   "metadata": {},
   "source": [
    "**Conclusion**: Even without tuning model, it performs very well. It is important to take into account that the data division is a train 60% and the test 40%. (I tried to limit the training data as much as possible, because I use a very strong model of machine learning for this problem.) The model gets very good results when looking at the test data, and especially at metrics such as precision, recall, f1 etc. (Everything is more equal 0.9)\n",
    "From the scientific point of view we could say that the model is overfitted but then it was used on the test dataset and performs very well there, this is because one of the idndicator is that data is not very diverse. In addition I made sure that there is a balance in the training set and test set and this approach is a big booster for the simple multi class classification problem.\n",
    "If the model wouldn't work very well, but still good, it would be worth implementing hyperparameterization and tuning it, but in this case it is unnecessary.\n",
    "\n",
    "**Annotation**: It is possible that in the future, if the model would be in production it might not work so well, due to the fact that the data here is very small, so even after getting a good model, it is very important to remain vigilant and control what is being let into the algorithm after implementation."
   ]
  },
  {
   "cell_type": "markdown",
   "metadata": {},
   "source": [
    "# **Questions and suggestions**"
   ]
  },
  {
   "cell_type": "markdown",
   "metadata": {},
   "source": [
    "1. How much data the customer can provide and with what frequency? (Information on the frequency of orders would also help to clarify the use case.)?\n",
    "\n",
    "With answer for the first question we can define online or offline. If a customer orders flowers every week then you can argue that online learning would be a better solution. The good thing about this decision is that these are small orders and we live in the times of big data.\n",
    "\n",
    "2. Maybe it would also be worth asking the customer about sales data that could be used for forecasting purposes. Thanks to this, the product the customer would receive would be responsible for classifying the flowers and also for forecasting sales,  which could bring great business value to his company.\n",
    "\n",
    "3. If this is a one-time analysis, and I assume so, I didn't focus on automating everything. If it was to be a final product, there are many things that can be improved in this code, as well as better secured methods with: asserts etc. \n",
    "\n",
    "4. In this case, even a good feature extraction was not needed because the problem was solved with a random tree algorithm (even hyperparameters tuning was not needed).\n",
    "\n",
    "5. About dataset: The truth is that in this dataset, even simplier models would achieve very good results.\n",
    "\n",
    "**Comment**:  Feel free to use another seeds but results are similar.\n",
    "\n",
    "**Research case**: It would also be an interesting idea to try a simple GAN architecture or make a little noise in data and add it to increase the distribution of outliers, as well as to check DL models. In that scientific case, the use of an MLP model could make sense, as the data would be more diverse and ordinary ML models might not work so well. This approach could also prove the limitations of Random Forest Classifier.\n",
    "\n",
    "**Research case 2**: Moreover it will be good to make LIME (Local Interpretable Model-agnostic Explanations). This approach could explain well the way the classifier predicts. This is a clever analysis to explain the role of a feature in the model."
   ]
  },
  {
   "cell_type": "code",
   "execution_count": 47,
   "metadata": {},
   "outputs": [],
   "source": [
    "#Test function to check if model can be loaded\n",
    "# clf2_test=joblib.load(file_path)"
   ]
  }
 ],
 "metadata": {
  "kernelspec": {
   "display_name": "tensorflow_env",
   "language": "python",
   "name": "tensorflow_env"
  },
  "language_info": {
   "codemirror_mode": {
    "name": "ipython",
    "version": 3
   },
   "file_extension": ".py",
   "mimetype": "text/x-python",
   "name": "python",
   "nbconvert_exporter": "python",
   "pygments_lexer": "ipython3",
   "version": "3.7.5"
  }
 },
 "nbformat": 4,
 "nbformat_minor": 4
}
