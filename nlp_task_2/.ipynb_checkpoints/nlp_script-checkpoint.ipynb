{
 "cells": [
  {
   "cell_type": "markdown",
   "metadata": {},
   "source": [
    "Task 2:\n",
    "\n",
    "Enclosed dataset contains data about press headlines – their content and type. Aim of this task is to create binary classification model for headline type (sarcastic / not sarcastic) based on headline content.\n",
    "Goal: Based on attached data build a model that will classify headline types. Prepare a report where you describe your way of approaching the problem and the steps you took to solve it. Don’t forget to assess the quality of the model you have prepared.\n",
    "Don’t focus on getting the highest score possible - the more important thing is to show your line of thought and your approach to the problem - especially NLP techniques you used.\n",
    " If you have any doubts or something seems inconclusive based on the task description, write it down in the report in the way you would ask the customer to clarify.\n",
    "What you need to provide for this task:\n",
    "\n",
    "1. The report (pdf/html/markdown) which includes the description of the model used.\n",
    "2. The source code written in Python or R (published on one of the git platforms such as github or bitbucket).\n"
   ]
  },
  {
   "cell_type": "markdown",
   "metadata": {},
   "source": [
    "# Import packages and basic informations about dataset\n",
    "This section is about packages which I used to prepare this report. Here, I've decided to take a slightly different approach than with iris."
   ]
  },
  {
   "cell_type": "code",
   "execution_count": 1,
   "metadata": {},
   "outputs": [
    {
     "name": "stderr",
     "output_type": "stream",
     "text": [
      "Using TensorFlow backend.\n"
     ]
    }
   ],
   "source": [
    "# Core packages\n",
    "import os\n",
    "import pandas as pd\n",
    "import numpy as np\n",
    "import matplotlib.pyplot as plt \n",
    "import seaborn as sns\n",
    "# Useful package for hints\n",
    "from typing import List, Tuple\n",
    "# Sklearn stuff\n",
    "from sklearn.model_selection import train_test_split\n",
    "from sklearn.naive_bayes import BernoulliNB #Bernoulli, cause in this case I've got binary features, and also it's a binary classification problem\n",
    "from sklearn.model_selection import cross_val_score,cross_val_predict\n",
    "from sklearn.metrics import classification_report,confusion_matrix,accuracy_score\n",
    "import joblib\n",
    "# Keras - for simply neural_net\n",
    "from keras.preprocessing.text import Tokenizer\n",
    "from keras.preprocessing.sequence import pad_sequences\n",
    "from keras.models import Sequential\n",
    "from keras.layers import Dense,Dropout\n",
    "from keras.models import load_model"
   ]
  },
  {
   "cell_type": "code",
   "execution_count": 2,
   "metadata": {},
   "outputs": [],
   "source": [
    "# Global variables\n",
    "PROJECT_PATH=os.getcwd()\n",
    "DATA_PATH=PROJECT_PATH+'/data_raw/Graduate - HEADLINES dataset (2019-06).json'"
   ]
  },
  {
   "cell_type": "code",
   "execution_count": 3,
   "metadata": {},
   "outputs": [],
   "source": [
    "# Read json as dataframe\n",
    "nlp_data=pd.read_json(DATA_PATH,lines=True)"
   ]
  },
  {
   "cell_type": "code",
   "execution_count": 4,
   "metadata": {},
   "outputs": [
    {
     "data": {
      "text/html": [
       "<div>\n",
       "<style scoped>\n",
       "    .dataframe tbody tr th:only-of-type {\n",
       "        vertical-align: middle;\n",
       "    }\n",
       "\n",
       "    .dataframe tbody tr th {\n",
       "        vertical-align: top;\n",
       "    }\n",
       "\n",
       "    .dataframe thead th {\n",
       "        text-align: right;\n",
       "    }\n",
       "</style>\n",
       "<table border=\"1\" class=\"dataframe\">\n",
       "  <thead>\n",
       "    <tr style=\"text-align: right;\">\n",
       "      <th></th>\n",
       "      <th>headline</th>\n",
       "      <th>is_sarcastic</th>\n",
       "    </tr>\n",
       "  </thead>\n",
       "  <tbody>\n",
       "    <tr>\n",
       "      <th>0</th>\n",
       "      <td>former versace store clerk sues over secret 'b...</td>\n",
       "      <td>0</td>\n",
       "    </tr>\n",
       "    <tr>\n",
       "      <th>1</th>\n",
       "      <td>the 'roseanne' revival catches up to our thorn...</td>\n",
       "      <td>0</td>\n",
       "    </tr>\n",
       "    <tr>\n",
       "      <th>2</th>\n",
       "      <td>mom starting to fear son's web series closest ...</td>\n",
       "      <td>1</td>\n",
       "    </tr>\n",
       "    <tr>\n",
       "      <th>3</th>\n",
       "      <td>boehner just wants wife to listen, not come up...</td>\n",
       "      <td>1</td>\n",
       "    </tr>\n",
       "    <tr>\n",
       "      <th>4</th>\n",
       "      <td>j.k. rowling wishes snape happy birthday in th...</td>\n",
       "      <td>0</td>\n",
       "    </tr>\n",
       "  </tbody>\n",
       "</table>\n",
       "</div>"
      ],
      "text/plain": [
       "                                            headline  is_sarcastic\n",
       "0  former versace store clerk sues over secret 'b...             0\n",
       "1  the 'roseanne' revival catches up to our thorn...             0\n",
       "2  mom starting to fear son's web series closest ...             1\n",
       "3  boehner just wants wife to listen, not come up...             1\n",
       "4  j.k. rowling wishes snape happy birthday in th...             0"
      ]
     },
     "execution_count": 4,
     "metadata": {},
     "output_type": "execute_result"
    }
   ],
   "source": [
    "# Basically how data looks like\n",
    "nlp_data.head()"
   ]
  },
  {
   "cell_type": "code",
   "execution_count": 5,
   "metadata": {},
   "outputs": [
    {
     "data": {
      "text/plain": [
       "the 20 funniest tweets from women this week                                           10\n",
       "sunday roundup                                                                        10\n",
       "'no way to prevent this,' says only nation where this regularly happens                8\n",
       "the funniest tweets from parents this week                                             6\n",
       "the funniest tweets from women this week                                               4\n",
       "                                                                                      ..\n",
       "the number of puerto ricans without water grew to more than half: dod                  1\n",
       "facebook reportedly beta-testing 'downvote' button                                     1\n",
       "cameron diaz finally opens up about generally positive experience in show business     1\n",
       "the 5 things about clothing you don't need to tell older women                         1\n",
       "menu describes diner's pancakes as 'world famous'                                      1\n",
       "Name: headline, Length: 26602, dtype: int64"
      ]
     },
     "execution_count": 5,
     "metadata": {},
     "output_type": "execute_result"
    }
   ],
   "source": [
    "# Check unique sentences and count it\n",
    "nlp_data.headline.value_counts()"
   ]
  },
  {
   "cell_type": "code",
   "execution_count": 6,
   "metadata": {},
   "outputs": [
    {
     "data": {
      "image/png": "[encoded data removed]",
      "text/plain": [
       "<Figure size 432x288 with 1 Axes>"
      ]
     },
     "metadata": {
      "needs_background": "light"
     },
     "output_type": "display_data"
    }
   ],
   "source": [
    "# Imbalanced dataset\n",
    "balance_dataset= nlp_data.is_sarcastic.value_counts()\n",
    "sns.barplot(balance_dataset.index, balance_dataset.values, alpha=0.8)\n",
    "plt.title('Balance in dataset')\n",
    "plt.savefig(PROJECT_PATH+'/plots/balance_dataset_plot.png',quality=95)\n",
    "plt.show()"
   ]
  },
  {
   "cell_type": "code",
   "execution_count": 7,
   "metadata": {},
   "outputs": [
    {
     "name": "stdout",
     "output_type": "stream",
     "text": [
      "<class 'pandas.core.frame.DataFrame'>\n",
      "RangeIndex: 26709 entries, 0 to 26708\n",
      "Data columns (total 2 columns):\n",
      " #   Column        Non-Null Count  Dtype \n",
      "---  ------        --------------  ----- \n",
      " 0   headline      26709 non-null  object\n",
      " 1   is_sarcastic  26709 non-null  int64 \n",
      "dtypes: int64(1), object(1)\n",
      "memory usage: 417.5+ KB\n"
     ]
    }
   ],
   "source": [
    "# Informations about dataset\n",
    "nlp_data.info()"
   ]
  },
  {
   "cell_type": "code",
   "execution_count": 8,
   "metadata": {},
   "outputs": [],
   "source": [
    "# Lower letters\n",
    "nlp_data.headline=nlp_data.headline.str.lower()"
   ]
  },
  {
   "cell_type": "code",
   "execution_count": 9,
   "metadata": {},
   "outputs": [
    {
     "data": {
      "text/plain": [
       "(26709,)"
      ]
     },
     "execution_count": 9,
     "metadata": {},
     "output_type": "execute_result"
    }
   ],
   "source": [
    "# Features\n",
    "X=nlp_data.headline\n",
    "X.shape"
   ]
  },
  {
   "cell_type": "code",
   "execution_count": 10,
   "metadata": {},
   "outputs": [
    {
     "data": {
      "text/plain": [
       "(26709,)"
      ]
     },
     "execution_count": 10,
     "metadata": {},
     "output_type": "execute_result"
    }
   ],
   "source": [
    "# Labels\n",
    "y=nlp_data.is_sarcastic\n",
    "y.shape"
   ]
  },
  {
   "cell_type": "markdown",
   "metadata": {},
   "source": [
    "Creating Tokenizer one hot encode for each word in sentence. I realize that I should probably carry out a few operations, more that are related to the NLP preprocessing."
   ]
  },
  {
   "cell_type": "code",
   "execution_count": 11,
   "metadata": {},
   "outputs": [],
   "source": [
    "# Using vectorizer to handling with sentences\n",
    "tokenizer=Tokenizer(num_words=1500,filters='!\"#$%&()*+,-./:;<=>?@[\\\\]^_`{|}~\\t\\n')\n",
    "tokenizer.fit_on_texts(nlp_data.headline)\n",
    "onehot_matrix=tokenizer.texts_to_matrix(nlp_data.headline,mode='binary') # 1/0 matrix, which contain values for sentences"
   ]
  },
  {
   "cell_type": "code",
   "execution_count": 12,
   "metadata": {},
   "outputs": [],
   "source": [
    "nlp_data_train_X,nlp_data_test_X,nlp_data_train_y,nlp_data_test_y=train_test_split(onehot_matrix,y,test_size=0.4,random_state=777) "
   ]
  },
  {
   "cell_type": "markdown",
   "metadata": {},
   "source": [
    "# Bernoulli classifier \n",
    "\n",
    "Intuition: One of the most commonly used binary classifiers, except Bayes."
   ]
  },
  {
   "cell_type": "markdown",
   "metadata": {},
   "source": [
    "## Check classifier on training"
   ]
  },
  {
   "cell_type": "code",
   "execution_count": 13,
   "metadata": {},
   "outputs": [
    {
     "data": {
      "text/plain": [
       "array([0.82834145, 0.82272557, 0.82980715])"
      ]
     },
     "execution_count": 13,
     "metadata": {},
     "output_type": "execute_result"
    }
   ],
   "source": [
    "#Bernoulli classifier create\n",
    "bernoulli_classifier = BernoulliNB()\n",
    "bernoulli_classifier.fit(nlp_data_train_X, nlp_data_train_y)\n",
    "cross_val_score(bernoulli_classifier,nlp_data_train_X,nlp_data_train_y,cv=3,scoring='accuracy')"
   ]
  },
  {
   "cell_type": "code",
   "execution_count": 14,
   "metadata": {},
   "outputs": [],
   "source": [
    "# Cross val predictions for Bernoulli\n",
    "bernoulli_cross_val_pred=cross_val_predict(bernoulli_classifier,nlp_data_train_X,nlp_data_train_y,cv=3)"
   ]
  },
  {
   "cell_type": "code",
   "execution_count": 15,
   "metadata": {},
   "outputs": [
    {
     "name": "stdout",
     "output_type": "stream",
     "text": [
      "              precision    recall  f1-score   support\n",
      "\n",
      "           0       0.85      0.84      0.84      8899\n",
      "           1       0.80      0.81      0.81      7126\n",
      "\n",
      "    accuracy                           0.83     16025\n",
      "   macro avg       0.82      0.83      0.82     16025\n",
      "weighted avg       0.83      0.83      0.83     16025\n",
      "\n"
     ]
    }
   ],
   "source": [
    "# Check how our model works on train dataset\n",
    "print(classification_report(nlp_data_train_y, bernoulli_cross_val_pred,target_names=['0','1']))"
   ]
  },
  {
   "cell_type": "markdown",
   "metadata": {},
   "source": [
    "## Check classifier on test"
   ]
  },
  {
   "cell_type": "code",
   "execution_count": 16,
   "metadata": {},
   "outputs": [],
   "source": [
    "# Get predictions from test\n",
    "bernoulli_test_pred=bernoulli_classifier.predict(nlp_data_test_X)"
   ]
  },
  {
   "cell_type": "code",
   "execution_count": 17,
   "metadata": {},
   "outputs": [
    {
     "name": "stdout",
     "output_type": "stream",
     "text": [
      "              precision    recall  f1-score   support\n",
      "\n",
      "           0       0.85      0.84      0.84      6086\n",
      "           1       0.79      0.80      0.79      4598\n",
      "\n",
      "    accuracy                           0.82     10684\n",
      "   macro avg       0.82      0.82      0.82     10684\n",
      "weighted avg       0.82      0.82      0.82     10684\n",
      "\n"
     ]
    }
   ],
   "source": [
    "# Check house model works on test\n",
    "print(classification_report(nlp_data_test_y.values, bernoulli_test_pred, target_names=['0','1']))"
   ]
  },
  {
   "cell_type": "markdown",
   "metadata": {},
   "source": [
    "Conclusion: Results are not band, but I still believe that it can be improved thanks to feature extraction or even take stronger model to this problem and also use advanced nlp techniques with preparing data."
   ]
  },
  {
   "cell_type": "code",
   "execution_count": 18,
   "metadata": {},
   "outputs": [
    {
     "data": {
      "image/png": "[encoded data removed]",
      "text/plain": [
       "<Figure size 720x432 with 2 Axes>"
      ]
     },
     "metadata": {
      "needs_background": "light"
     },
     "output_type": "display_data"
    }
   ],
   "source": [
    "# Create confusion matrix for Bernoulli Classifier\n",
    "bernoulli_clf_matrix=confusion_matrix(nlp_data_test_y.values,bernoulli_test_pred)\n",
    "bernoulli_cm_df = pd.DataFrame(bernoulli_clf_matrix,['no sarcasm','sarcasm'],['no sarcasm','sarcasm'])\n",
    "plt.figure(figsize=(10,6))  \n",
    "sns.heatmap(bernoulli_cm_df, annot=True,fmt='g')\n",
    "plt.savefig(PROJECT_PATH+'/plots/bernoulli_cm_777.png',quality=95)"
   ]
  },
  {
   "cell_type": "markdown",
   "metadata": {},
   "source": [
    "Comment: The result of the confusion matrix (for Bernoulli) leaves much to be desired."
   ]
  },
  {
   "cell_type": "code",
   "execution_count": 19,
   "metadata": {},
   "outputs": [
    {
     "data": {
      "text/plain": [
       "['/home/jakubj/JupyterNotebooks/nlp_task_2/models/nlp_bernoullinb_classifier_777.joblib.pkl']"
      ]
     },
     "execution_count": 19,
     "metadata": {},
     "output_type": "execute_result"
    }
   ],
   "source": [
    "# Save model\n",
    "file_path = PROJECT_PATH+'/models/nlp_bernoullinb_classifier_777.joblib.pkl'\n",
    "# Compress 0 because it's not big model\n",
    "joblib.dump(bernoulli_classifier, file_path, compress=0)"
   ]
  },
  {
   "cell_type": "markdown",
   "metadata": {},
   "source": [
    "## Train neural network"
   ]
  },
  {
   "cell_type": "code",
   "execution_count": 20,
   "metadata": {},
   "outputs": [],
   "source": [
    "# Define Neural_Network\n",
    "input_shape = nlp_data_train_X.shape[1]  # Number of features\n",
    "neural_net = Sequential()\n",
    "neural_net.add(Dense(32,input_dim=input_shape, activation='relu')) \n",
    "neural_net.add(Dropout(0.2))\n",
    "neural_net.add(Dense(8, activation='relu'))\n",
    "neural_net.add(Dense(1, activation='sigmoid'))"
   ]
  },
  {
   "cell_type": "code",
   "execution_count": 21,
   "metadata": {},
   "outputs": [
    {
     "name": "stdout",
     "output_type": "stream",
     "text": [
      "Model: \"sequential_1\"\n",
      "_________________________________________________________________\n",
      "Layer (type)                 Output Shape              Param #   \n",
      "=================================================================\n",
      "dense_1 (Dense)              (None, 32)                48032     \n",
      "_________________________________________________________________\n",
      "dropout_1 (Dropout)          (None, 32)                0         \n",
      "_________________________________________________________________\n",
      "dense_2 (Dense)              (None, 8)                 264       \n",
      "_________________________________________________________________\n",
      "dense_3 (Dense)              (None, 1)                 9         \n",
      "=================================================================\n",
      "Total params: 48,305\n",
      "Trainable params: 48,305\n",
      "Non-trainable params: 0\n",
      "_________________________________________________________________\n"
     ]
    }
   ],
   "source": [
    "# Check how model looks like\n",
    "neural_net.summary()"
   ]
  },
  {
   "cell_type": "code",
   "execution_count": 22,
   "metadata": {},
   "outputs": [],
   "source": [
    "# Setting optimizer, loss func and metrics\n",
    "neural_net.compile(loss='binary_crossentropy',optimizer='adam',metrics=['accuracy'])"
   ]
  },
  {
   "cell_type": "code",
   "execution_count": 23,
   "metadata": {},
   "outputs": [
    {
     "name": "stdout",
     "output_type": "stream",
     "text": [
      "Train on 9615 samples, validate on 6410 samples\n",
      "Epoch 1/14\n",
      "9615/9615 [==============================] - 1s 103us/step - loss: 0.6480 - accuracy: 0.6712 - val_loss: 0.5555 - val_accuracy: 0.7980\n",
      "Epoch 2/14\n",
      "9615/9615 [==============================] - 1s 58us/step - loss: 0.4567 - accuracy: 0.8208 - val_loss: 0.4067 - val_accuracy: 0.8220\n",
      "Epoch 3/14\n",
      "9615/9615 [==============================] - 1s 56us/step - loss: 0.3573 - accuracy: 0.8475 - val_loss: 0.3872 - val_accuracy: 0.8289\n",
      "Epoch 4/14\n",
      "9615/9615 [==============================] - 1s 60us/step - loss: 0.3173 - accuracy: 0.8650 - val_loss: 0.3917 - val_accuracy: 0.8261\n",
      "Epoch 5/14\n",
      "9615/9615 [==============================] - 1s 63us/step - loss: 0.2965 - accuracy: 0.8777 - val_loss: 0.3984 - val_accuracy: 0.8240\n",
      "Epoch 6/14\n",
      "9615/9615 [==============================] - 1s 68us/step - loss: 0.2749 - accuracy: 0.8871 - val_loss: 0.4079 - val_accuracy: 0.8222\n",
      "Epoch 7/14\n",
      "9615/9615 [==============================] - 1s 67us/step - loss: 0.2581 - accuracy: 0.8950 - val_loss: 0.4195 - val_accuracy: 0.8206\n",
      "Epoch 8/14\n",
      "9615/9615 [==============================] - 1s 70us/step - loss: 0.2377 - accuracy: 0.9061 - val_loss: 0.4355 - val_accuracy: 0.8178\n",
      "Epoch 9/14\n",
      "9615/9615 [==============================] - 1s 66us/step - loss: 0.2236 - accuracy: 0.9118 - val_loss: 0.4486 - val_accuracy: 0.8162\n",
      "Epoch 10/14\n",
      "9615/9615 [==============================] - 1s 58us/step - loss: 0.2049 - accuracy: 0.9194 - val_loss: 0.4629 - val_accuracy: 0.8175\n",
      "Epoch 11/14\n",
      "9615/9615 [==============================] - 1s 57us/step - loss: 0.1946 - accuracy: 0.9232 - val_loss: 0.4796 - val_accuracy: 0.8156\n",
      "Epoch 12/14\n",
      "9615/9615 [==============================] - 1s 58us/step - loss: 0.1773 - accuracy: 0.9343 - val_loss: 0.4959 - val_accuracy: 0.8140\n",
      "Epoch 13/14\n",
      "9615/9615 [==============================] - 1s 61us/step - loss: 0.1655 - accuracy: 0.9356 - val_loss: 0.5143 - val_accuracy: 0.8100\n",
      "Epoch 14/14\n",
      "9615/9615 [==============================] - 1s 57us/step - loss: 0.1490 - accuracy: 0.9454 - val_loss: 0.5346 - val_accuracy: 0.8125\n"
     ]
    }
   ],
   "source": [
    "# Fitting nn by train data\n",
    "model_train= neural_net.fit(nlp_data_train_X,nlp_data_train_y,epochs=14,\n",
    "                            verbose=1,validation_split=0.4,batch_size=128)"
   ]
  },
  {
   "cell_type": "markdown",
   "metadata": {},
   "source": [
    "Comment: This neural network is very simple, and IMO can be prone to adversarial."
   ]
  },
  {
   "cell_type": "markdown",
   "metadata": {},
   "source": [
    "## Check neural network on test"
   ]
  },
  {
   "cell_type": "code",
   "execution_count": 24,
   "metadata": {},
   "outputs": [],
   "source": [
    "# Predictions\n",
    "nn_test_pred=neural_net.predict_classes(nlp_data_test_X)"
   ]
  },
  {
   "cell_type": "code",
   "execution_count": 25,
   "metadata": {},
   "outputs": [
    {
     "name": "stdout",
     "output_type": "stream",
     "text": [
      "              precision    recall  f1-score   support\n",
      "\n",
      "           0       0.82      0.83      0.83      6086\n",
      "           1       0.78      0.77      0.77      4598\n",
      "\n",
      "    accuracy                           0.80     10684\n",
      "   macro avg       0.80      0.80      0.80     10684\n",
      "weighted avg       0.80      0.80      0.80     10684\n",
      "\n"
     ]
    }
   ],
   "source": [
    "# Prepare classification report for neural network\n",
    "print(classification_report(nlp_data_test_y.values, nn_test_pred, target_names=['0','1']))"
   ]
  },
  {
   "cell_type": "code",
   "execution_count": 26,
   "metadata": {},
   "outputs": [
    {
     "data": {
      "image/png": "[encoded data removed]",
      "text/plain": [
       "<Figure size 720x432 with 2 Axes>"
      ]
     },
     "metadata": {
      "needs_background": "light"
     },
     "output_type": "display_data"
    }
   ],
   "source": [
    "# Prepare confusion matrix\n",
    "nn_clf_matrix=confusion_matrix(nn_test_pred,nlp_data_test_y)\n",
    "nn_cm_df = pd.DataFrame(nn_clf_matrix,['no sarcasm','sarcasm'],['no sarcasm','sarcasm'])\n",
    "plt.figure(figsize=(10,6))  \n",
    "sns.heatmap(nn_cm_df, annot=True,fmt='g')\n",
    "plt.savefig(PROJECT_PATH+'/plots/nn_cm_777.png',quality=95)"
   ]
  },
  {
   "cell_type": "markdown",
   "metadata": {},
   "source": [
    "Conclusion: Overfitting should be suspected because of the high accuracy value appearing druing training. \n",
    "This model ANN is worse than Bernoulli classifier, and moreover can be very prone to adversarial, because it's overfitted."
   ]
  },
  {
   "cell_type": "code",
   "execution_count": 27,
   "metadata": {},
   "outputs": [],
   "source": [
    "# Save architecture, in this case I can do that, cause it's not really deep :)\n",
    "neural_net.save(PROJECT_PATH+'/models/simple_nn_777.h5')\n",
    "neural_net.save_weights(PROJECT_PATH+'/models/simple_nn_777_weights.h5')"
   ]
  },
  {
   "cell_type": "code",
   "execution_count": 29,
   "metadata": {},
   "outputs": [],
   "source": [
    "# # Check load\n",
    "# nn_test=load_model(PROJECT_PATH+'/models/simple_nn_777.h5')\n",
    "# nn_test.load_weights(PROJECT_PATH+'/models/simple_nn_777_weights.h5')"
   ]
  },
  {
   "cell_type": "markdown",
   "metadata": {},
   "source": [
    "# **Questions and suggestions**\n",
    "1. Same question as the irises. How is data streaming looks like?\n",
    "2. What languages would the data refer to?\n",
    "3. In many cases, recognizing sarcasm is one of the most difficult tasks, because even a person is not always able to estimate it. I think that using more data, as well as moving towards DL models, would be a good approach to this kind of NLP problem.\n",
    "4. It would be worth checking out SGD, Bayes etc.\n",
    "5. The data processing could be automated, as I did kind of for iris, but here I showed the experimentation and testing phase.\n",
    "6. It would be good to make sure there is balance in the classroom, just like in iris dataset. One solution is to ask the customer for more data volume.\n",
    "It is obvious that we should definitely focus on the feature extraction, as well as consider the use of embedding vectors. Moreover it's worth to check LSTM or GRU, cause they are pretty good in NLP problems."
   ]
  },
  {
   "cell_type": "code",
   "execution_count": null,
   "metadata": {},
   "outputs": [],
   "source": []
  }
 ],
 "metadata": {
  "kernelspec": {
   "display_name": "tensorflow_env",
   "language": "python",
   "name": "tensorflow_env"
  },
  "language_info": {
   "codemirror_mode": {
    "name": "ipython",
    "version": 3
   },
   "file_extension": ".py",
   "mimetype": "text/x-python",
   "name": "python",
   "nbconvert_exporter": "python",
   "pygments_lexer": "ipython3",
   "version": "3.7.5"
  }
 },
 "nbformat": 4,
 "nbformat_minor": 4
}
